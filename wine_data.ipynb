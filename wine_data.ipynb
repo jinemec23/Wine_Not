{
 "metadata": {
  "language_info": {
   "codemirror_mode": {
    "name": "ipython",
    "version": 3
   },
   "file_extension": ".py",
   "mimetype": "text/x-python",
   "name": "python",
   "nbconvert_exporter": "python",
   "pygments_lexer": "ipython3",
   "version": "3.8.5"
  },
  "orig_nbformat": 2,
  "kernelspec": {
   "name": "python385jvsc74a57bd0a84a2774ece11607afbede4528f66180dd13ac6b7c4625eb3af0552779058e68",
   "display_name": "Python 3.8.5 64-bit ('base': conda)"
  }
 },
 "nbformat": 4,
 "nbformat_minor": 2,
 "cells": [
  {
   "cell_type": "code",
   "execution_count": 29,
   "metadata": {},
   "outputs": [],
   "source": [
    "import pandas as pd\n",
    "import json\n",
    "import csv"
   ]
  },
  {
   "cell_type": "code",
   "execution_count": 3,
   "metadata": {},
   "outputs": [
    {
     "output_type": "execute_result",
     "data": {
      "text/plain": [
       "    Vintage    Country         County  \\\n",
       "0  1/1/2014     France        Pomerol   \n",
       "1  1/1/2010     France  Saint-Émilion   \n",
       "2  1/1/2009  Australia    Eden Valley   \n",
       "3  1/1/2015    Germany            NaN   \n",
       "4  1/1/2012      Spain        Priorat   \n",
       "\n",
       "                                Designation  Points      Price   \\\n",
       "0                                       NaN      96  $2,500.00    \n",
       "1                                       NaN     100  $1,500.00    \n",
       "2                             Hill of Grace      91    $780.00    \n",
       "3  Kiedrich Gräfenberg Trockenbeerenauslese      98    $775.00    \n",
       "4                                  El Perer      96    $770.00    \n",
       "\n",
       "          Province                                              Title  \\\n",
       "0         Bordeaux                        Château Pétrus 2014 Pomerol   \n",
       "1         Bordeaux            Château Cheval Blanc 2010 Saint-Émilion   \n",
       "2  South Australia   Henschke 2009 Hill of Grace Shiraz (Eden Valley)   \n",
       "3         Rheingau  Robert Weil 2015 Kiedrich Gräfenberg Trockenbe...   \n",
       "4        Catalonia      Marco Abella 2012 El Perer Carignan (Priorat)   \n",
       "\n",
       "                    Variety                Winery  \n",
       "0  Bordeaux-style Red Blend        Château Pétrus  \n",
       "1  Bordeaux-style Red Blend  Château Cheval Blanc  \n",
       "2                    Shiraz              Henschke  \n",
       "3                  Riesling           Robert Weil  \n",
       "4                  Carignan          Marco Abella  "
      ],
      "text/html": "<div>\n<style scoped>\n    .dataframe tbody tr th:only-of-type {\n        vertical-align: middle;\n    }\n\n    .dataframe tbody tr th {\n        vertical-align: top;\n    }\n\n    .dataframe thead th {\n        text-align: right;\n    }\n</style>\n<table border=\"1\" class=\"dataframe\">\n  <thead>\n    <tr style=\"text-align: right;\">\n      <th></th>\n      <th>Vintage</th>\n      <th>Country</th>\n      <th>County</th>\n      <th>Designation</th>\n      <th>Points</th>\n      <th>Price</th>\n      <th>Province</th>\n      <th>Title</th>\n      <th>Variety</th>\n      <th>Winery</th>\n    </tr>\n  </thead>\n  <tbody>\n    <tr>\n      <th>0</th>\n      <td>1/1/2014</td>\n      <td>France</td>\n      <td>Pomerol</td>\n      <td>NaN</td>\n      <td>96</td>\n      <td>$2,500.00</td>\n      <td>Bordeaux</td>\n      <td>Château Pétrus 2014 Pomerol</td>\n      <td>Bordeaux-style Red Blend</td>\n      <td>Château Pétrus</td>\n    </tr>\n    <tr>\n      <th>1</th>\n      <td>1/1/2010</td>\n      <td>France</td>\n      <td>Saint-Émilion</td>\n      <td>NaN</td>\n      <td>100</td>\n      <td>$1,500.00</td>\n      <td>Bordeaux</td>\n      <td>Château Cheval Blanc 2010 Saint-Émilion</td>\n      <td>Bordeaux-style Red Blend</td>\n      <td>Château Cheval Blanc</td>\n    </tr>\n    <tr>\n      <th>2</th>\n      <td>1/1/2009</td>\n      <td>Australia</td>\n      <td>Eden Valley</td>\n      <td>Hill of Grace</td>\n      <td>91</td>\n      <td>$780.00</td>\n      <td>South Australia</td>\n      <td>Henschke 2009 Hill of Grace Shiraz (Eden Valley)</td>\n      <td>Shiraz</td>\n      <td>Henschke</td>\n    </tr>\n    <tr>\n      <th>3</th>\n      <td>1/1/2015</td>\n      <td>Germany</td>\n      <td>NaN</td>\n      <td>Kiedrich Gräfenberg Trockenbeerenauslese</td>\n      <td>98</td>\n      <td>$775.00</td>\n      <td>Rheingau</td>\n      <td>Robert Weil 2015 Kiedrich Gräfenberg Trockenbe...</td>\n      <td>Riesling</td>\n      <td>Robert Weil</td>\n    </tr>\n    <tr>\n      <th>4</th>\n      <td>1/1/2012</td>\n      <td>Spain</td>\n      <td>Priorat</td>\n      <td>El Perer</td>\n      <td>96</td>\n      <td>$770.00</td>\n      <td>Catalonia</td>\n      <td>Marco Abella 2012 El Perer Carignan (Priorat)</td>\n      <td>Carignan</td>\n      <td>Marco Abella</td>\n    </tr>\n  </tbody>\n</table>\n</div>"
     },
     "metadata": {},
     "execution_count": 3
    }
   ],
   "source": [
    "wineData = pd.read_csv(\"Data/Wines.csv\", encoding=\"ISO-8859-1\")\n",
    "wineData.head()"
   ]
  },
  {
   "cell_type": "code",
   "execution_count": 8,
   "metadata": {},
   "outputs": [
    {
     "output_type": "stream",
     "name": "stdout",
     "text": [
      "{'type': 'Feature', 'properties': {'scalerank': 1, 'featurecla': 'Admin-0 country', 'labelrank': 3, 'sovereignt': 'Ecuador', 'sov_a3': 'ECU', 'adm0_dif': 0, 'level': 2, 'type': 'Sovereign country', 'admin': 'Ecuador', 'adm0_a3': 'ECU', 'geou_dif': 0, 'geounit': 'Ecuador', 'gu_a3': 'ECU', 'su_dif': 0, 'subunit': 'Ecuador', 'su_a3': 'ECU', 'brk_diff': 0, 'name': 'Ecuador', 'name_long': 'Ecuador', 'brk_a3': 'ECU', 'brk_name': 'Ecuador', 'brk_group': None, 'abbrev': 'Ecu.', 'postal': 'EC', 'formal_en': 'Republic of Ecuador', 'formal_fr': None, 'note_adm0': None, 'note_brk': None, 'name_sort': 'Ecuador', 'name_alt': None, 'mapcolor7': 1, 'mapcolor8': 5, 'mapcolor9': 2, 'mapcolor13': 12, 'pop_est': 14573101, 'gdp_md_est': 107700, 'pop_year': -99, 'lastcensus': 2010, 'gdp_year': -99, 'economy': '6. Developing region', 'income_grp': '3. Upper middle income', 'wikipedia': -99, 'fips_10': None, 'iso_a2': 'EC', 'iso_a3': 'ECU', 'iso_n3': '218', 'un_a3': '218', 'wb_a2': 'EC', 'wb_a3': 'ECU', 'woe_id': -99, 'adm0_a3_is': 'ECU', 'adm0_a3_us': 'ECU', 'adm0_a3_un': -99, 'adm0_a3_wb': -99, 'continent': 'South America', 'region_un': 'Americas', 'subregion': 'South America', 'region_wb': 'Latin America & Caribbean', 'name_len': 7, 'long_len': 7, 'abbrev_len': 4, 'tiny': -99, 'homepart': 1, 'filename': 'ECU.geojson'}, 'geometry': {'type': 'Polygon', 'coordinates': [[[-80.30256059438722, -3.404856459164713], [-79.77029334178093, -2.65751189535964], [-79.98655921092241, -2.220794366061014], [-80.36878394236925, -2.685158786635788], [-80.96776546906436, -2.246942640800704], [-80.76480628123804, -1.965047702648533], [-80.9336590237517, -1.057454522306358], [-80.58337032746127, -0.906662692878683], [-80.39932471385376, -0.283703301600141], [-80.02089820018037, 0.360340074053468], [-80.09060970734211, 0.768428859862397], [-79.54276201039978, 0.982937730305963], [-78.85525875518871, 1.380923773601822], [-77.85506140817952, 0.809925034992773], [-77.66861284047044, 0.825893052570961], [-77.4249843004304, 0.395686753741117], [-76.57637976754938, 0.256935533037435], [-76.29231441924097, 0.416047268064119], [-75.80146582711659, 0.084801337073202], [-75.37322323271385, -0.15203175212045], [-75.23372270374193, -0.911416924649529], [-75.54499569365204, -1.56160979574588], [-76.63539425322672, -2.608677666843818], [-77.83790483265861, -3.003020521663103], [-78.45068396677564, -3.873096612161376], [-78.63989722361234, -4.547784112164074], [-79.20528906931771, -4.959128513207389], [-79.62497921417618, -4.454198093283494], [-80.02890804718561, -4.346090996928893], [-80.44224199087216, -4.425724379090674], [-80.46929460317695, -4.059286797708999], [-80.18401485870967, -3.821161797708044], [-80.30256059438722, -3.404856459164713]]]}}\n"
     ]
    }
   ],
   "source": [
    "\n",
    "# Opening JSON file\n",
    "jsonfile = open('custom.geo.json')\n",
    "  \n",
    "# returns JSON object as \n",
    "# a dictionary\n",
    "Jsondata = json.load(jsonfile)\n",
    "  \n",
    "# Iterating through the json list\n",
    "for i in data['features']:\n",
    "    print(i)\n",
    "    break\n",
    "\n",
    "\n",
    "# Closing file\n",
    "#geoJson.close()"
   ]
  },
  {
   "cell_type": "code",
   "execution_count": 27,
   "metadata": {},
   "outputs": [
    {
     "output_type": "error",
     "ename": "TypeError",
     "evalue": "list indices must be integers or slices, not str",
     "traceback": [
      "\u001b[0;31m---------------------------------------------------------------------------\u001b[0m",
      "\u001b[0;31mTypeError\u001b[0m                                 Traceback (most recent call last)",
      "\u001b[0;32m<ipython-input-27-623efdb8ea8f>\u001b[0m in \u001b[0;36m<module>\u001b[0;34m\u001b[0m\n\u001b[1;32m      3\u001b[0m \u001b[0;34m\u001b[0m\u001b[0m\n\u001b[1;32m      4\u001b[0m \u001b[0;32mfor\u001b[0m \u001b[0mwine\u001b[0m \u001b[0;32min\u001b[0m \u001b[0mwine_dict\u001b[0m\u001b[0;34m:\u001b[0m\u001b[0;34m\u001b[0m\u001b[0;34m\u001b[0m\u001b[0m\n\u001b[0;32m----> 5\u001b[0;31m     \u001b[0mprint\u001b[0m\u001b[0;34m(\u001b[0m\u001b[0mwine_dict\u001b[0m\u001b[0;34m[\u001b[0m\u001b[0;34m'features'\u001b[0m\u001b[0;34m]\u001b[0m\u001b[0;34m[\u001b[0m\u001b[0;34m'properties'\u001b[0m\u001b[0;34m]\u001b[0m\u001b[0;34m[\u001b[0m\u001b[0;36m18\u001b[0m\u001b[0;34m]\u001b[0m\u001b[0;34m)\u001b[0m\u001b[0;34m\u001b[0m\u001b[0;34m\u001b[0m\u001b[0m\n\u001b[0m",
      "\u001b[0;31mTypeError\u001b[0m: list indices must be integers or slices, not str"
     ]
    }
   ],
   "source": [
    "with open('custom.geo.json', 'r') as f:\n",
    "    wine_dict = json.load(f)\n",
    "\n",
    "for wine in wine_dict:\n",
    "    print(wine_dict['features']['properties'][18])"
   ]
  },
  {
   "cell_type": "code",
   "execution_count": 30,
   "metadata": {},
   "outputs": [
    {
     "output_type": "error",
     "ename": "UnicodeDecodeError",
     "evalue": "'utf-8' codec can't decode byte 0xe2 in position 132: invalid continuation byte",
     "traceback": [
      "\u001b[0;31m---------------------------------------------------------------------------\u001b[0m",
      "\u001b[0;31mUnicodeDecodeError\u001b[0m                        Traceback (most recent call last)",
      "\u001b[0;32m<ipython-input-30-bc254c7587a2>\u001b[0m in \u001b[0;36m<module>\u001b[0;34m\u001b[0m\n\u001b[1;32m      5\u001b[0m \u001b[0;32mwith\u001b[0m \u001b[0mopen\u001b[0m\u001b[0;34m(\u001b[0m\u001b[0mcsvpath\u001b[0m\u001b[0;34m)\u001b[0m \u001b[0;32mas\u001b[0m \u001b[0mcsvFile\u001b[0m\u001b[0;34m:\u001b[0m\u001b[0;34m\u001b[0m\u001b[0;34m\u001b[0m\u001b[0m\n\u001b[1;32m      6\u001b[0m     \u001b[0mcsvReader\u001b[0m \u001b[0;34m=\u001b[0m \u001b[0mcsv\u001b[0m\u001b[0;34m.\u001b[0m\u001b[0mDictReader\u001b[0m\u001b[0;34m(\u001b[0m\u001b[0mcsvFile\u001b[0m\u001b[0;34m)\u001b[0m\u001b[0;34m\u001b[0m\u001b[0;34m\u001b[0m\u001b[0m\n\u001b[0;32m----> 7\u001b[0;31m     \u001b[0;32mfor\u001b[0m \u001b[0mrows\u001b[0m \u001b[0;32min\u001b[0m \u001b[0mcsvReader\u001b[0m\u001b[0;34m:\u001b[0m\u001b[0;34m\u001b[0m\u001b[0;34m\u001b[0m\u001b[0m\n\u001b[0m\u001b[1;32m      8\u001b[0m         \u001b[0mid\u001b[0m \u001b[0;34m=\u001b[0m \u001b[0mrows\u001b[0m\u001b[0;34m[\u001b[0m\u001b[0;34m'id'\u001b[0m\u001b[0;34m]\u001b[0m\u001b[0;34m\u001b[0m\u001b[0;34m\u001b[0m\u001b[0m\n\u001b[1;32m      9\u001b[0m         \u001b[0mdata\u001b[0m\u001b[0;34m[\u001b[0m\u001b[0mid\u001b[0m\u001b[0;34m]\u001b[0m \u001b[0;34m=\u001b[0m \u001b[0mrows\u001b[0m\u001b[0;34m\u001b[0m\u001b[0;34m\u001b[0m\u001b[0m\n",
      "\u001b[0;32m~/opt/anaconda3/lib/python3.8/csv.py\u001b[0m in \u001b[0;36m__next__\u001b[0;34m(self)\u001b[0m\n\u001b[1;32m    108\u001b[0m         \u001b[0;32mif\u001b[0m \u001b[0mself\u001b[0m\u001b[0;34m.\u001b[0m\u001b[0mline_num\u001b[0m \u001b[0;34m==\u001b[0m \u001b[0;36m0\u001b[0m\u001b[0;34m:\u001b[0m\u001b[0;34m\u001b[0m\u001b[0;34m\u001b[0m\u001b[0m\n\u001b[1;32m    109\u001b[0m             \u001b[0;31m# Used only for its side effect.\u001b[0m\u001b[0;34m\u001b[0m\u001b[0;34m\u001b[0m\u001b[0;34m\u001b[0m\u001b[0m\n\u001b[0;32m--> 110\u001b[0;31m             \u001b[0mself\u001b[0m\u001b[0;34m.\u001b[0m\u001b[0mfieldnames\u001b[0m\u001b[0;34m\u001b[0m\u001b[0;34m\u001b[0m\u001b[0m\n\u001b[0m\u001b[1;32m    111\u001b[0m         \u001b[0mrow\u001b[0m \u001b[0;34m=\u001b[0m \u001b[0mnext\u001b[0m\u001b[0;34m(\u001b[0m\u001b[0mself\u001b[0m\u001b[0;34m.\u001b[0m\u001b[0mreader\u001b[0m\u001b[0;34m)\u001b[0m\u001b[0;34m\u001b[0m\u001b[0;34m\u001b[0m\u001b[0m\n\u001b[1;32m    112\u001b[0m         \u001b[0mself\u001b[0m\u001b[0;34m.\u001b[0m\u001b[0mline_num\u001b[0m \u001b[0;34m=\u001b[0m \u001b[0mself\u001b[0m\u001b[0;34m.\u001b[0m\u001b[0mreader\u001b[0m\u001b[0;34m.\u001b[0m\u001b[0mline_num\u001b[0m\u001b[0;34m\u001b[0m\u001b[0;34m\u001b[0m\u001b[0m\n",
      "\u001b[0;32m~/opt/anaconda3/lib/python3.8/csv.py\u001b[0m in \u001b[0;36mfieldnames\u001b[0;34m(self)\u001b[0m\n\u001b[1;32m     95\u001b[0m         \u001b[0;32mif\u001b[0m \u001b[0mself\u001b[0m\u001b[0;34m.\u001b[0m\u001b[0m_fieldnames\u001b[0m \u001b[0;32mis\u001b[0m \u001b[0;32mNone\u001b[0m\u001b[0;34m:\u001b[0m\u001b[0;34m\u001b[0m\u001b[0;34m\u001b[0m\u001b[0m\n\u001b[1;32m     96\u001b[0m             \u001b[0;32mtry\u001b[0m\u001b[0;34m:\u001b[0m\u001b[0;34m\u001b[0m\u001b[0;34m\u001b[0m\u001b[0m\n\u001b[0;32m---> 97\u001b[0;31m                 \u001b[0mself\u001b[0m\u001b[0;34m.\u001b[0m\u001b[0m_fieldnames\u001b[0m \u001b[0;34m=\u001b[0m \u001b[0mnext\u001b[0m\u001b[0;34m(\u001b[0m\u001b[0mself\u001b[0m\u001b[0;34m.\u001b[0m\u001b[0mreader\u001b[0m\u001b[0;34m)\u001b[0m\u001b[0;34m\u001b[0m\u001b[0;34m\u001b[0m\u001b[0m\n\u001b[0m\u001b[1;32m     98\u001b[0m             \u001b[0;32mexcept\u001b[0m \u001b[0mStopIteration\u001b[0m\u001b[0;34m:\u001b[0m\u001b[0;34m\u001b[0m\u001b[0;34m\u001b[0m\u001b[0m\n\u001b[1;32m     99\u001b[0m                 \u001b[0;32mpass\u001b[0m\u001b[0;34m\u001b[0m\u001b[0;34m\u001b[0m\u001b[0m\n",
      "\u001b[0;32m~/opt/anaconda3/lib/python3.8/codecs.py\u001b[0m in \u001b[0;36mdecode\u001b[0;34m(self, input, final)\u001b[0m\n\u001b[1;32m    320\u001b[0m         \u001b[0;31m# decode input (taking the buffer into account)\u001b[0m\u001b[0;34m\u001b[0m\u001b[0;34m\u001b[0m\u001b[0;34m\u001b[0m\u001b[0m\n\u001b[1;32m    321\u001b[0m         \u001b[0mdata\u001b[0m \u001b[0;34m=\u001b[0m \u001b[0mself\u001b[0m\u001b[0;34m.\u001b[0m\u001b[0mbuffer\u001b[0m \u001b[0;34m+\u001b[0m \u001b[0minput\u001b[0m\u001b[0;34m\u001b[0m\u001b[0;34m\u001b[0m\u001b[0m\n\u001b[0;32m--> 322\u001b[0;31m         \u001b[0;34m(\u001b[0m\u001b[0mresult\u001b[0m\u001b[0;34m,\u001b[0m \u001b[0mconsumed\u001b[0m\u001b[0;34m)\u001b[0m \u001b[0;34m=\u001b[0m \u001b[0mself\u001b[0m\u001b[0;34m.\u001b[0m\u001b[0m_buffer_decode\u001b[0m\u001b[0;34m(\u001b[0m\u001b[0mdata\u001b[0m\u001b[0;34m,\u001b[0m \u001b[0mself\u001b[0m\u001b[0;34m.\u001b[0m\u001b[0merrors\u001b[0m\u001b[0;34m,\u001b[0m \u001b[0mfinal\u001b[0m\u001b[0;34m)\u001b[0m\u001b[0;34m\u001b[0m\u001b[0;34m\u001b[0m\u001b[0m\n\u001b[0m\u001b[1;32m    323\u001b[0m         \u001b[0;31m# keep undecoded input until the next call\u001b[0m\u001b[0;34m\u001b[0m\u001b[0;34m\u001b[0m\u001b[0;34m\u001b[0m\u001b[0m\n\u001b[1;32m    324\u001b[0m         \u001b[0mself\u001b[0m\u001b[0;34m.\u001b[0m\u001b[0mbuffer\u001b[0m \u001b[0;34m=\u001b[0m \u001b[0mdata\u001b[0m\u001b[0;34m[\u001b[0m\u001b[0mconsumed\u001b[0m\u001b[0;34m:\u001b[0m\u001b[0;34m]\u001b[0m\u001b[0;34m\u001b[0m\u001b[0;34m\u001b[0m\u001b[0m\n",
      "\u001b[0;31mUnicodeDecodeError\u001b[0m: 'utf-8' codec can't decode byte 0xe2 in position 132: invalid continuation byte"
     ]
    }
   ],
   "source": [
    "csvpath = \"Data/wines.csv\"\n",
    "jsonpath = \"custom.geo.json\"\n",
    "\n",
    "data = {}\n",
    "with open(csvpath) as csvFile:\n",
    "    csvReader = csv.DictReader(csvFile)\n",
    "    for rows in csvReader:\n",
    "        id = rows['id']\n",
    "        data[id] = rows\n",
    "\n",
    "with open(jsonpath, 'w') as jsonFile:\n",
    "    jsonFile.write(json.dumps(data, indent=4))"
   ]
  },
  {
   "cell_type": "code",
   "execution_count": null,
   "metadata": {},
   "outputs": [],
   "source": []
  }
 ]
}