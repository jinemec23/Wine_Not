{
 "metadata": {
  "language_info": {
   "codemirror_mode": {
    "name": "ipython",
    "version": 3
   },
   "file_extension": ".py",
   "mimetype": "text/x-python",
   "name": "python",
   "nbconvert_exporter": "python",
   "pygments_lexer": "ipython3",
   "version": "3.8.8"
  },
  "orig_nbformat": 2,
  "kernelspec": {
   "name": "python388jvsc74a57bd0b0ccb19b2701d801c99fa5505a6aa2db36d4d1edecf3fbd79f8bc84aae87a0e2",
   "display_name": "Python 3.8.5 64-bit ('base': conda)"
  }
 },
 "nbformat": 4,
 "nbformat_minor": 2,
 "cells": [
  {
   "cell_type": "code",
   "execution_count": 1,
   "metadata": {},
   "outputs": [],
   "source": [
    "import pandas as pd\n",
    "import json\n",
    "from sqlalchemy import create_engine\n",
    "# Python SQL toolkit and Object Relational Mapper\n",
    "import sqlalchemy\n",
    "from sqlalchemy.ext.automap import automap_base\n",
    "from sqlalchemy.orm import Session\n",
    "from sqlalchemy import create_engine, func, inspect"
   ]
  },
  {
   "cell_type": "code",
   "execution_count": 2,
   "metadata": {},
   "outputs": [],
   "source": [
    "wine_csv = \"data/Wines.csv\"\n",
    "wine_df = pd.read_csv(wine_csv, encoding = 'ISO-8859-1')"
   ]
  },
  {
   "cell_type": "code",
   "execution_count": 3,
   "metadata": {},
   "outputs": [
    {
     "output_type": "execute_result",
     "data": {
      "text/plain": [
       "    Vintage    Country         County  \\\n",
       "0  1/1/2014     France        Pomerol   \n",
       "1  1/1/2010     France  Saint-Émilion   \n",
       "2  1/1/2009  Australia    Eden Valley   \n",
       "3  1/1/2015    Germany            NaN   \n",
       "4  1/1/2012      Spain        Priorat   \n",
       "\n",
       "                                Designation  Points      Price   \\\n",
       "0                                       NaN      96  $2,500.00    \n",
       "1                                       NaN     100  $1,500.00    \n",
       "2                             Hill of Grace      91    $780.00    \n",
       "3  Kiedrich Gräfenberg Trockenbeerenauslese      98    $775.00    \n",
       "4                                  El Perer      96    $770.00    \n",
       "\n",
       "          Province                                              Title  \\\n",
       "0         Bordeaux                        Château Pétrus 2014 Pomerol   \n",
       "1         Bordeaux            Château Cheval Blanc 2010 Saint-Émilion   \n",
       "2  South Australia   Henschke 2009 Hill of Grace Shiraz (Eden Valley)   \n",
       "3         Rheingau  Robert Weil 2015 Kiedrich Gräfenberg Trockenbe...   \n",
       "4        Catalonia      Marco Abella 2012 El Perer Carignan (Priorat)   \n",
       "\n",
       "                    Variety                Winery  \n",
       "0  Bordeaux-style Red Blend        Château Pétrus  \n",
       "1  Bordeaux-style Red Blend  Château Cheval Blanc  \n",
       "2                    Shiraz              Henschke  \n",
       "3                  Riesling           Robert Weil  \n",
       "4                  Carignan          Marco Abella  "
      ],
      "text/html": "<div>\n<style scoped>\n    .dataframe tbody tr th:only-of-type {\n        vertical-align: middle;\n    }\n\n    .dataframe tbody tr th {\n        vertical-align: top;\n    }\n\n    .dataframe thead th {\n        text-align: right;\n    }\n</style>\n<table border=\"1\" class=\"dataframe\">\n  <thead>\n    <tr style=\"text-align: right;\">\n      <th></th>\n      <th>Vintage</th>\n      <th>Country</th>\n      <th>County</th>\n      <th>Designation</th>\n      <th>Points</th>\n      <th>Price</th>\n      <th>Province</th>\n      <th>Title</th>\n      <th>Variety</th>\n      <th>Winery</th>\n    </tr>\n  </thead>\n  <tbody>\n    <tr>\n      <th>0</th>\n      <td>1/1/2014</td>\n      <td>France</td>\n      <td>Pomerol</td>\n      <td>NaN</td>\n      <td>96</td>\n      <td>$2,500.00</td>\n      <td>Bordeaux</td>\n      <td>Château Pétrus 2014 Pomerol</td>\n      <td>Bordeaux-style Red Blend</td>\n      <td>Château Pétrus</td>\n    </tr>\n    <tr>\n      <th>1</th>\n      <td>1/1/2010</td>\n      <td>France</td>\n      <td>Saint-Émilion</td>\n      <td>NaN</td>\n      <td>100</td>\n      <td>$1,500.00</td>\n      <td>Bordeaux</td>\n      <td>Château Cheval Blanc 2010 Saint-Émilion</td>\n      <td>Bordeaux-style Red Blend</td>\n      <td>Château Cheval Blanc</td>\n    </tr>\n    <tr>\n      <th>2</th>\n      <td>1/1/2009</td>\n      <td>Australia</td>\n      <td>Eden Valley</td>\n      <td>Hill of Grace</td>\n      <td>91</td>\n      <td>$780.00</td>\n      <td>South Australia</td>\n      <td>Henschke 2009 Hill of Grace Shiraz (Eden Valley)</td>\n      <td>Shiraz</td>\n      <td>Henschke</td>\n    </tr>\n    <tr>\n      <th>3</th>\n      <td>1/1/2015</td>\n      <td>Germany</td>\n      <td>NaN</td>\n      <td>Kiedrich Gräfenberg Trockenbeerenauslese</td>\n      <td>98</td>\n      <td>$775.00</td>\n      <td>Rheingau</td>\n      <td>Robert Weil 2015 Kiedrich Gräfenberg Trockenbe...</td>\n      <td>Riesling</td>\n      <td>Robert Weil</td>\n    </tr>\n    <tr>\n      <th>4</th>\n      <td>1/1/2012</td>\n      <td>Spain</td>\n      <td>Priorat</td>\n      <td>El Perer</td>\n      <td>96</td>\n      <td>$770.00</td>\n      <td>Catalonia</td>\n      <td>Marco Abella 2012 El Perer Carignan (Priorat)</td>\n      <td>Carignan</td>\n      <td>Marco Abella</td>\n    </tr>\n  </tbody>\n</table>\n</div>"
     },
     "metadata": {},
     "execution_count": 3
    }
   ],
   "source": [
    "wine_df.head()"
   ]
  },
  {
   "cell_type": "code",
   "execution_count": 4,
   "metadata": {},
   "outputs": [],
   "source": [
    "drop = wine_df.dropna()"
   ]
  },
  {
   "cell_type": "code",
   "execution_count": 4,
   "metadata": {},
   "outputs": [],
   "source": [
    "engine = create_engine(f'sqlite:///wine_db.sqlite')"
   ]
  },
  {
   "cell_type": "code",
   "execution_count": null,
   "metadata": {},
   "outputs": [],
   "source": []
  },
  {
   "cell_type": "code",
   "execution_count": 7,
   "metadata": {},
   "outputs": [],
   "source": [
    "Base = automap_base()\n",
    "\n",
    "Base.prepare(engine, reflect=True)"
   ]
  },
  {
   "cell_type": "code",
   "execution_count": 8,
   "metadata": {},
   "outputs": [
    {
     "output_type": "execute_result",
     "data": {
      "text/plain": [
       "[]"
      ]
     },
     "metadata": {},
     "execution_count": 8
    }
   ],
   "source": [
    "Base.classes.keys()"
   ]
  },
  {
   "cell_type": "code",
   "execution_count": null,
   "metadata": {},
   "outputs": [],
   "source": []
  }
 ]
}