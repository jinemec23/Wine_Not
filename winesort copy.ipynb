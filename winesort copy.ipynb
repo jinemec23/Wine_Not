{
 "metadata": {
  "language_info": {
   "codemirror_mode": {
    "name": "ipython",
    "version": 3
   },
   "file_extension": ".py",
   "mimetype": "text/x-python",
   "name": "python",
   "nbconvert_exporter": "python",
   "pygments_lexer": "ipython3",
   "version": "3.8.8"
  },
  "orig_nbformat": 2,
  "kernelspec": {
   "name": "python388jvsc74a57bd0b0ccb19b2701d801c99fa5505a6aa2db36d4d1edecf3fbd79f8bc84aae87a0e2",
   "display_name": "Python 3.8.5 64-bit ('base': conda)"
  }
 },
 "nbformat": 4,
 "nbformat_minor": 2,
 "cells": [
  {
   "cell_type": "code",
   "execution_count": 1,
   "metadata": {},
   "outputs": [],
   "source": [
    "import pandas as pd\n",
    "import json\n",
    "from sqlalchemy import create_engine\n",
    "# Python SQL toolkit and Object Relational Mapper\n",
    "import sqlalchemy\n",
    "from sqlalchemy.ext.automap import automap_base\n",
    "from sqlalchemy.orm import Session\n",
    "from sqlalchemy import create_engine, func, inspect"
   ]
  },
  {
   "cell_type": "code",
   "execution_count": 2,
   "metadata": {},
   "outputs": [],
   "source": [
    "wine_csv = \"data/Wines.csv\"\n",
    "wine_df = pd.read_csv(wine_csv, encoding = 'ISO-8859-1')"
   ]
  },
  {
   "cell_type": "code",
   "execution_count": 3,
   "metadata": {},
   "outputs": [
    {
     "output_type": "execute_result",
     "data": {
      "text/plain": [
       "    Vintage    Country         County  \\\n",
       "0  1/1/2014     France        Pomerol   \n",
       "1  1/1/2010     France  Saint-Émilion   \n",
       "2  1/1/2009  Australia    Eden Valley   \n",
       "3  1/1/2015    Germany            NaN   \n",
       "4  1/1/2012      Spain        Priorat   \n",
       "\n",
       "                                Designation  Points      Price   \\\n",
       "0                                       NaN      96  $2,500.00    \n",
       "1                                       NaN     100  $1,500.00    \n",
       "2                             Hill of Grace      91    $780.00    \n",
       "3  Kiedrich Gräfenberg Trockenbeerenauslese      98    $775.00    \n",
       "4                                  El Perer      96    $770.00    \n",
       "\n",
       "          Province                                              Title  \\\n",
       "0         Bordeaux                        Château Pétrus 2014 Pomerol   \n",
       "1         Bordeaux            Château Cheval Blanc 2010 Saint-Émilion   \n",
       "2  South Australia   Henschke 2009 Hill of Grace Shiraz (Eden Valley)   \n",
       "3         Rheingau  Robert Weil 2015 Kiedrich Gräfenberg Trockenbe...   \n",
       "4        Catalonia      Marco Abella 2012 El Perer Carignan (Priorat)   \n",
       "\n",
       "                    Variety                Winery  \n",
       "0  Bordeaux-style Red Blend        Château Pétrus  \n",
       "1  Bordeaux-style Red Blend  Château Cheval Blanc  \n",
       "2                    Shiraz              Henschke  \n",
       "3                  Riesling           Robert Weil  \n",
       "4                  Carignan          Marco Abella  "
      ],
      "text/html": "<div>\n<style scoped>\n    .dataframe tbody tr th:only-of-type {\n        vertical-align: middle;\n    }\n\n    .dataframe tbody tr th {\n        vertical-align: top;\n    }\n\n    .dataframe thead th {\n        text-align: right;\n    }\n</style>\n<table border=\"1\" class=\"dataframe\">\n  <thead>\n    <tr style=\"text-align: right;\">\n      <th></th>\n      <th>Vintage</th>\n      <th>Country</th>\n      <th>County</th>\n      <th>Designation</th>\n      <th>Points</th>\n      <th>Price</th>\n      <th>Province</th>\n      <th>Title</th>\n      <th>Variety</th>\n      <th>Winery</th>\n    </tr>\n  </thead>\n  <tbody>\n    <tr>\n      <th>0</th>\n      <td>1/1/2014</td>\n      <td>France</td>\n      <td>Pomerol</td>\n      <td>NaN</td>\n      <td>96</td>\n      <td>$2,500.00</td>\n      <td>Bordeaux</td>\n      <td>Château Pétrus 2014 Pomerol</td>\n      <td>Bordeaux-style Red Blend</td>\n      <td>Château Pétrus</td>\n    </tr>\n    <tr>\n      <th>1</th>\n      <td>1/1/2010</td>\n      <td>France</td>\n      <td>Saint-Émilion</td>\n      <td>NaN</td>\n      <td>100</td>\n      <td>$1,500.00</td>\n      <td>Bordeaux</td>\n      <td>Château Cheval Blanc 2010 Saint-Émilion</td>\n      <td>Bordeaux-style Red Blend</td>\n      <td>Château Cheval Blanc</td>\n    </tr>\n    <tr>\n      <th>2</th>\n      <td>1/1/2009</td>\n      <td>Australia</td>\n      <td>Eden Valley</td>\n      <td>Hill of Grace</td>\n      <td>91</td>\n      <td>$780.00</td>\n      <td>South Australia</td>\n      <td>Henschke 2009 Hill of Grace Shiraz (Eden Valley)</td>\n      <td>Shiraz</td>\n      <td>Henschke</td>\n    </tr>\n    <tr>\n      <th>3</th>\n      <td>1/1/2015</td>\n      <td>Germany</td>\n      <td>NaN</td>\n      <td>Kiedrich Gräfenberg Trockenbeerenauslese</td>\n      <td>98</td>\n      <td>$775.00</td>\n      <td>Rheingau</td>\n      <td>Robert Weil 2015 Kiedrich Gräfenberg Trockenbe...</td>\n      <td>Riesling</td>\n      <td>Robert Weil</td>\n    </tr>\n    <tr>\n      <th>4</th>\n      <td>1/1/2012</td>\n      <td>Spain</td>\n      <td>Priorat</td>\n      <td>El Perer</td>\n      <td>96</td>\n      <td>$770.00</td>\n      <td>Catalonia</td>\n      <td>Marco Abella 2012 El Perer Carignan (Priorat)</td>\n      <td>Carignan</td>\n      <td>Marco Abella</td>\n    </tr>\n  </tbody>\n</table>\n</div>"
     },
     "metadata": {},
     "execution_count": 3
    }
   ],
   "source": [
    "wine_df.head()"
   ]
  },
  {
   "cell_type": "code",
   "execution_count": 8,
   "metadata": {},
   "outputs": [
    {
     "output_type": "execute_result",
     "data": {
      "text/plain": [
       "Vintage        13319\n",
       "Country        13319\n",
       "County         13319\n",
       "Designation    13319\n",
       "Points         13319\n",
       " Price         13319\n",
       "Province       13319\n",
       "Title          13319\n",
       "Variety        13319\n",
       "Winery         13319\n",
       "dtype: int64"
      ]
     },
     "metadata": {},
     "execution_count": 8
    }
   ],
   "source": [
    "drop = wine_df.dropna()\n",
    "drop.count()"
   ]
  },
  {
   "cell_type": "code",
   "execution_count": 32,
   "metadata": {},
   "outputs": [
    {
     "output_type": "execute_result",
     "data": {
      "text/plain": [
       "             Points\n",
       "count  13319.000000\n",
       "mean      88.852541\n",
       "std        3.057004\n",
       "min       80.000000\n",
       "25%       87.000000\n",
       "50%       89.000000\n",
       "75%       91.000000\n",
       "max      100.000000"
      ],
      "text/html": "<div>\n<style scoped>\n    .dataframe tbody tr th:only-of-type {\n        vertical-align: middle;\n    }\n\n    .dataframe tbody tr th {\n        vertical-align: top;\n    }\n\n    .dataframe thead th {\n        text-align: right;\n    }\n</style>\n<table border=\"1\" class=\"dataframe\">\n  <thead>\n    <tr style=\"text-align: right;\">\n      <th></th>\n      <th>Points</th>\n    </tr>\n  </thead>\n  <tbody>\n    <tr>\n      <th>count</th>\n      <td>13319.000000</td>\n    </tr>\n    <tr>\n      <th>mean</th>\n      <td>88.852541</td>\n    </tr>\n    <tr>\n      <th>std</th>\n      <td>3.057004</td>\n    </tr>\n    <tr>\n      <th>min</th>\n      <td>80.000000</td>\n    </tr>\n    <tr>\n      <th>25%</th>\n      <td>87.000000</td>\n    </tr>\n    <tr>\n      <th>50%</th>\n      <td>89.000000</td>\n    </tr>\n    <tr>\n      <th>75%</th>\n      <td>91.000000</td>\n    </tr>\n    <tr>\n      <th>max</th>\n      <td>100.000000</td>\n    </tr>\n  </tbody>\n</table>\n</div>"
     },
     "metadata": {},
     "execution_count": 32
    }
   ],
   "source": [
    "drop.describe()"
   ]
  },
  {
   "cell_type": "code",
   "execution_count": 30,
   "metadata": {},
   "outputs": [
    {
     "output_type": "execute_result",
     "data": {
      "text/plain": [
       "              Points\n",
       "Variety             \n",
       "Aglianico  89.756098\n",
       "Albana     89.142857\n",
       "Albariño   88.458333\n",
       "Aleatico   89.000000\n",
       "Alicante   87.000000"
      ],
      "text/html": "<div>\n<style scoped>\n    .dataframe tbody tr th:only-of-type {\n        vertical-align: middle;\n    }\n\n    .dataframe tbody tr th {\n        vertical-align: top;\n    }\n\n    .dataframe thead th {\n        text-align: right;\n    }\n</style>\n<table border=\"1\" class=\"dataframe\">\n  <thead>\n    <tr style=\"text-align: right;\">\n      <th></th>\n      <th>Points</th>\n    </tr>\n    <tr>\n      <th>Variety</th>\n      <th></th>\n    </tr>\n  </thead>\n  <tbody>\n    <tr>\n      <th>Aglianico</th>\n      <td>89.756098</td>\n    </tr>\n    <tr>\n      <th>Albana</th>\n      <td>89.142857</td>\n    </tr>\n    <tr>\n      <th>Albariño</th>\n      <td>88.458333</td>\n    </tr>\n    <tr>\n      <th>Aleatico</th>\n      <td>89.000000</td>\n    </tr>\n    <tr>\n      <th>Alicante</th>\n      <td>87.000000</td>\n    </tr>\n  </tbody>\n</table>\n</div>"
     },
     "metadata": {},
     "execution_count": 30
    }
   ],
   "source": [
    "variety = drop.groupby('Variety').mean()\n",
    "variety.head()\n"
   ]
  },
  {
   "cell_type": "code",
   "execution_count": 33,
   "metadata": {},
   "outputs": [
    {
     "output_type": "execute_result",
     "data": {
      "text/plain": [
       "array(['Shiraz', 'Carignan', 'Chardonnay', 'Cabernet Sauvignon',\n",
       "       'Nebbiolo', 'Champagne Blend', 'Pinot Noir',\n",
       "       'Bordeaux-style Red Blend', 'White Blend', 'Red Blend',\n",
       "       'Tempranillo', 'Syrah', 'Garnacha', 'Merlot', 'Sangiovese Grosso',\n",
       "       'Tempranillo Blend', 'Tinta de Toro', 'Shiraz-Viognier', 'Malbec',\n",
       "       'Sangiovese', 'Sparkling Blend', 'Corvina, Rondinella, Molinara',\n",
       "       'Gewürztraminer', 'Grenache', 'Cabernet Franc', 'Tinto Fino',\n",
       "       'Bordeaux-style White Blend', 'Rhône-style White Blend',\n",
       "       'Malbec-Cabernet Sauvignon', 'Tannat', 'Vermentino', 'Rosé',\n",
       "       'Pinot Nero', 'Rhône-style Red Blend', 'Viognier',\n",
       "       'Cabernet Sauvignon-Malbec', 'Graciano', 'Ribolla Gialla',\n",
       "       'Petite Sirah', 'Pinot Gris', 'Chenin Blanc', 'Riesling',\n",
       "       'Barbera', 'Malbec-Cabernet Franc', 'Mencía', 'Sauvignon Blanc',\n",
       "       'Sagrantino', 'Alsace white blend', 'Merlot-Cabernet Sauvignon',\n",
       "       'Petit Verdot', 'Malbec Blend', 'Cabernet Sauvignon-Merlot',\n",
       "       'Mazuelo', \"Nero d'Avola\", 'Mourvèdre', 'Cabernet Blend',\n",
       "       'Aglianico', 'Picolit', 'Moscato', 'Corvina',\n",
       "       'Sauvignon Blanc-Semillon', 'Syrah-Cabernet Sauvignon', 'Vitovska',\n",
       "       'Gamay', 'Pinot Noir-Syrah', 'Nerello Mascalese', 'Raboso',\n",
       "       'Vidal Blanc', 'Syrah-Viognier', 'Pinot Blanc', 'Zinfandel',\n",
       "       'Moscatel', 'Shiraz-Cabernet', 'Cabernet Sauvignon-Cabernet Franc',\n",
       "       'Fumé Blanc', 'Port', 'Tocai Friulano', 'Nero di Troia',\n",
       "       'Roussanne', 'Prugnolo Gentile', 'Savagnin', 'Montepulciano',\n",
       "       'Syrah-Cabernet Franc', 'Sémillon', 'Malvasia', 'Shiraz-Grenache',\n",
       "       'Sauvignon', 'Provence red blend', 'Meritage',\n",
       "       'Cabernet Sauvignon-Syrah', 'G-S-M', 'Godello', 'Zibibbo', 'Greco',\n",
       "       'Albariño', 'Marsanne', 'Trebbiano', 'Lagrein', 'Verdicchio',\n",
       "       'Pallagrello Nero', 'Grenache-Syrah', 'Syrah-Mourvèdre',\n",
       "       'Aleatico', 'Tempranillo-Cabernet Sauvignon', 'Pinot Grigio',\n",
       "       'Carmenère', 'Glera', 'Tinta del Pais', 'Sangiovese-Syrah',\n",
       "       'Vidal', 'Petit Manseng', 'Shiraz-Cabernet Sauvignon', 'Albana',\n",
       "       'Cabernet Franc-Merlot', 'Cannonau', 'Pugnitello', 'Turbiana',\n",
       "       'Muscat', 'Provence white blend', 'Merlot-Cabernet Franc',\n",
       "       'Pinot Auxerrois', 'Tinta Madeira', 'Cortese',\n",
       "       'Garnacha Tintorera', 'Friulano', 'Garganega', 'Fiano',\n",
       "       'Cabernet Sauvignon-Sangiovese', 'Carricante', 'Primitivo',\n",
       "       'Uva di Troia', 'Durella', 'Grenache Noir', 'Verdejo',\n",
       "       'Müller-Thurgau', 'Blanc du Bois', 'Cabernet', 'Pinot Bianco',\n",
       "       'Tempranillo Blanco', 'Arneis', 'Carignan-Grenache',\n",
       "       'Cabernet-Syrah', 'Tannat-Cabernet', 'Cabernet Sauvignon-Shiraz',\n",
       "       'Pinotage', 'Petite Verdot', 'Trousseau', 'Ruché',\n",
       "       'Gros and Petit Manseng', 'Prieto Picudo', 'Macabeo',\n",
       "       'Centesimino', 'Grenache Blanc', 'Verduzzo Friulano',\n",
       "       'Touriga Nacional', 'Zweigelt', 'Pinot Noir-Gamay', 'Rufete',\n",
       "       'Marsanne-Viognier', 'Carineña', 'Carignane', 'Dolcetto',\n",
       "       'Cinsault', 'Norton', 'Nosiola', 'Baco Noir', 'Sylvaner',\n",
       "       'Negroamaro', 'Viura', 'Grenache-Carignan', 'Frappato',\n",
       "       'Vernaccia', 'Tocai', 'Falanghina', 'Grüner Veltliner',\n",
       "       'Auxerrois', 'Charbono', 'Sangiovese Cabernet',\n",
       "       'Semillon-Sauvignon Blanc', 'Pallagrello', 'Torrontés',\n",
       "       'Muscat Canelli', \"Loin de l'Oeil\", 'Monastrell', 'Grillo',\n",
       "       'Bovale', 'Lambrusco di Sorbara', 'Saperavi', 'Barbera-Nebbiolo',\n",
       "       'Prosecco', 'Teroldego', 'Mantonico', 'Melon', 'Malvasia Bianca',\n",
       "       'Rosato', 'Cabernet Merlot', 'Picpoul', 'Pinot-Chardonnay',\n",
       "       'Rkatsiteli', 'Syrah-Grenache', 'Malbec-Merlot', 'Coda di Volpe',\n",
       "       'Counoise', 'Muscadelle', 'Tinta Fina', 'Kerner', 'Negrette',\n",
       "       'Bonarda', 'Pecorino', 'Claret', 'Magliocco', 'Grenache-Mourvèdre',\n",
       "       'Passerina', 'Tinto del Pais', 'Schiava', 'Gamay Noir',\n",
       "       'Roussanne-Viognier', 'Syrah-Cabernet', 'Chasselas', 'Inzolia',\n",
       "       'Carignano', 'Insolia', \"Cesanese d'Affile\", 'Pedro Ximénez',\n",
       "       'Rosado', 'Colombard', 'Xarel-lo', 'Muscat Blanc', 'Romorantin',\n",
       "       'Cabernet Sauvignon-Merlot-Shiraz', 'Pinot Gris-Gewürztraminer',\n",
       "       'Moscato Giallo', 'Pinot Meunier', 'Orange Muscat', 'Chambourcin',\n",
       "       'Maturana', 'Tempranillo-Merlot', 'Grechetto', 'Edelzwicker',\n",
       "       'Lambrusco', 'Mission', 'Fer Servadou', 'Perricone',\n",
       "       'Lambrusco Grasparossa', 'Chardonnay-Semillon',\n",
       "       'Cabernet Sauvignon-Tempranillo', 'Piedirosso', 'Sauvignon Musqué',\n",
       "       'Garnacha-Tempranillo', 'Garnacha Blanca', 'Jacquère',\n",
       "       'Chardonnay-Sauvignon Blanc', 'Touriga Nacional Blend',\n",
       "       'Garnacha-Monastrell', 'Merlot-Malbec', 'Altesse',\n",
       "       'Viognier-Gewürztraminer', 'Treixadura', 'Lemberger', 'Verdeca',\n",
       "       'Tempranillo-Garnacha', 'Catarratto', 'Verdelho',\n",
       "       'Tempranillo-Shiraz', 'Semillon-Chardonnay', 'Sherry',\n",
       "       'Tannat-Cabernet Franc', 'Pansa Blanca', 'Malvasia Nera',\n",
       "       'Manzoni', 'Aligoté', 'Viura-Chardonnay', 'Bobal', 'Seyval Blanc',\n",
       "       'Marselan', 'Garnacha-Syrah', 'Gaglioppo', 'Monastrell-Syrah',\n",
       "       'Macabeo-Chardonnay', 'Grenache-Shiraz', 'Gewürztraminer-Riesling',\n",
       "       'Ugni Blanc-Colombard', 'Colombard-Ugni Blanc', 'Verdejo-Viura',\n",
       "       'Diamond', 'Chardonnay-Viognier', 'Colombard-Sauvignon Blanc',\n",
       "       'Alicante', 'Malvasia-Viura', 'Tannat-Merlot', 'White Riesling',\n",
       "       'Grenache Blend', 'Johannisberg Riesling', 'Merlot-Cabernet',\n",
       "       'Symphony', 'Malbec-Tempranillo', 'Malbec-Syrah'], dtype=object)"
      ]
     },
     "metadata": {},
     "execution_count": 33
    }
   ],
   "source": [
    "drop['Variety'].unique()"
   ]
  },
  {
   "cell_type": "code",
   "execution_count": 35,
   "metadata": {},
   "outputs": [
    {
     "output_type": "execute_result",
     "data": {
      "text/plain": [
       "           Vintage  County  Designation  Points   Price   Province  Title  \\\n",
       "Country                                                                     \n",
       "Argentina      563     563          563     563      563       563    563   \n",
       "Australia      315     315          315     315      315       315    315   \n",
       "Canada          34      34           34      34       34        34     34   \n",
       "France        2120    2120         2120    2120     2120      2120   2120   \n",
       "Italy         2234    2234         2234    2234     2234      2234   2234   \n",
       "Spain          974     974          974     974      974       974    974   \n",
       "US            7079    7079         7079    7079     7079      7079   7079   \n",
       "\n",
       "           Variety  Winery  \n",
       "Country                     \n",
       "Argentina      563     563  \n",
       "Australia      315     315  \n",
       "Canada          34      34  \n",
       "France        2120    2120  \n",
       "Italy         2234    2234  \n",
       "Spain          974     974  \n",
       "US            7079    7079  "
      ],
      "text/html": "<div>\n<style scoped>\n    .dataframe tbody tr th:only-of-type {\n        vertical-align: middle;\n    }\n\n    .dataframe tbody tr th {\n        vertical-align: top;\n    }\n\n    .dataframe thead th {\n        text-align: right;\n    }\n</style>\n<table border=\"1\" class=\"dataframe\">\n  <thead>\n    <tr style=\"text-align: right;\">\n      <th></th>\n      <th>Vintage</th>\n      <th>County</th>\n      <th>Designation</th>\n      <th>Points</th>\n      <th>Price</th>\n      <th>Province</th>\n      <th>Title</th>\n      <th>Variety</th>\n      <th>Winery</th>\n    </tr>\n    <tr>\n      <th>Country</th>\n      <th></th>\n      <th></th>\n      <th></th>\n      <th></th>\n      <th></th>\n      <th></th>\n      <th></th>\n      <th></th>\n      <th></th>\n    </tr>\n  </thead>\n  <tbody>\n    <tr>\n      <th>Argentina</th>\n      <td>563</td>\n      <td>563</td>\n      <td>563</td>\n      <td>563</td>\n      <td>563</td>\n      <td>563</td>\n      <td>563</td>\n      <td>563</td>\n      <td>563</td>\n    </tr>\n    <tr>\n      <th>Australia</th>\n      <td>315</td>\n      <td>315</td>\n      <td>315</td>\n      <td>315</td>\n      <td>315</td>\n      <td>315</td>\n      <td>315</td>\n      <td>315</td>\n      <td>315</td>\n    </tr>\n    <tr>\n      <th>Canada</th>\n      <td>34</td>\n      <td>34</td>\n      <td>34</td>\n      <td>34</td>\n      <td>34</td>\n      <td>34</td>\n      <td>34</td>\n      <td>34</td>\n      <td>34</td>\n    </tr>\n    <tr>\n      <th>France</th>\n      <td>2120</td>\n      <td>2120</td>\n      <td>2120</td>\n      <td>2120</td>\n      <td>2120</td>\n      <td>2120</td>\n      <td>2120</td>\n      <td>2120</td>\n      <td>2120</td>\n    </tr>\n    <tr>\n      <th>Italy</th>\n      <td>2234</td>\n      <td>2234</td>\n      <td>2234</td>\n      <td>2234</td>\n      <td>2234</td>\n      <td>2234</td>\n      <td>2234</td>\n      <td>2234</td>\n      <td>2234</td>\n    </tr>\n    <tr>\n      <th>Spain</th>\n      <td>974</td>\n      <td>974</td>\n      <td>974</td>\n      <td>974</td>\n      <td>974</td>\n      <td>974</td>\n      <td>974</td>\n      <td>974</td>\n      <td>974</td>\n    </tr>\n    <tr>\n      <th>US</th>\n      <td>7079</td>\n      <td>7079</td>\n      <td>7079</td>\n      <td>7079</td>\n      <td>7079</td>\n      <td>7079</td>\n      <td>7079</td>\n      <td>7079</td>\n      <td>7079</td>\n    </tr>\n  </tbody>\n</table>\n</div>"
     },
     "metadata": {},
     "execution_count": 35
    }
   ],
   "source": [
    "Country = drop.groupby('Country')\n",
    "Country.count()"
   ]
  },
  {
   "cell_type": "code",
   "execution_count": null,
   "metadata": {},
   "outputs": [],
   "source": []
  },
  {
   "cell_type": "code",
   "execution_count": 29,
   "metadata": {},
   "outputs": [
    {
     "output_type": "execute_result",
     "data": {
      "text/plain": [
       "Points    88.852541\n",
       "dtype: float64"
      ]
     },
     "metadata": {},
     "execution_count": 29
    }
   ],
   "source": [
    "drop.mean()"
   ]
  },
  {
   "cell_type": "code",
   "execution_count": null,
   "metadata": {},
   "outputs": [],
   "source": []
  }
 ]
}